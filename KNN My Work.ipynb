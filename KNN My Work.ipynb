{
 "cells": [
  {
   "cell_type": "markdown",
   "metadata": {},
   "source": [
    "\n",
    "# KNN My work"
   ]
  },
  {
   "cell_type": "code",
   "execution_count": 2,
   "metadata": {},
   "outputs": [],
   "source": [
    "import pandas as pd\n",
    "import sklearn as sns\n",
    "import numpy as np\n",
    "from sklearn import preprocessing\n",
    "import matplotlib.pyplot as plt"
   ]
  },
  {
   "cell_type": "code",
   "execution_count": 3,
   "metadata": {},
   "outputs": [],
   "source": [
    "df= pd.read_csv(\"D:\\\\vivek\\\\teleCust1000t.csv\")"
   ]
  },
  {
   "cell_type": "code",
   "execution_count": 4,
   "metadata": {},
   "outputs": [
    {
     "data": {
      "text/html": [
       "<div>\n",
       "<style scoped>\n",
       "    .dataframe tbody tr th:only-of-type {\n",
       "        vertical-align: middle;\n",
       "    }\n",
       "\n",
       "    .dataframe tbody tr th {\n",
       "        vertical-align: top;\n",
       "    }\n",
       "\n",
       "    .dataframe thead th {\n",
       "        text-align: right;\n",
       "    }\n",
       "</style>\n",
       "<table border=\"1\" class=\"dataframe\">\n",
       "  <thead>\n",
       "    <tr style=\"text-align: right;\">\n",
       "      <th></th>\n",
       "      <th>region</th>\n",
       "      <th>tenure</th>\n",
       "      <th>age</th>\n",
       "      <th>marital</th>\n",
       "      <th>address</th>\n",
       "      <th>income</th>\n",
       "      <th>ed</th>\n",
       "      <th>employ</th>\n",
       "      <th>retire</th>\n",
       "      <th>gender</th>\n",
       "      <th>reside</th>\n",
       "      <th>custcat</th>\n",
       "    </tr>\n",
       "  </thead>\n",
       "  <tbody>\n",
       "    <tr>\n",
       "      <th>0</th>\n",
       "      <td>2</td>\n",
       "      <td>13</td>\n",
       "      <td>44</td>\n",
       "      <td>1</td>\n",
       "      <td>9</td>\n",
       "      <td>64.0</td>\n",
       "      <td>4</td>\n",
       "      <td>5</td>\n",
       "      <td>0.0</td>\n",
       "      <td>0</td>\n",
       "      <td>2</td>\n",
       "      <td>1</td>\n",
       "    </tr>\n",
       "    <tr>\n",
       "      <th>1</th>\n",
       "      <td>3</td>\n",
       "      <td>11</td>\n",
       "      <td>33</td>\n",
       "      <td>1</td>\n",
       "      <td>7</td>\n",
       "      <td>136.0</td>\n",
       "      <td>5</td>\n",
       "      <td>5</td>\n",
       "      <td>0.0</td>\n",
       "      <td>0</td>\n",
       "      <td>6</td>\n",
       "      <td>4</td>\n",
       "    </tr>\n",
       "    <tr>\n",
       "      <th>2</th>\n",
       "      <td>3</td>\n",
       "      <td>68</td>\n",
       "      <td>52</td>\n",
       "      <td>1</td>\n",
       "      <td>24</td>\n",
       "      <td>116.0</td>\n",
       "      <td>1</td>\n",
       "      <td>29</td>\n",
       "      <td>0.0</td>\n",
       "      <td>1</td>\n",
       "      <td>2</td>\n",
       "      <td>3</td>\n",
       "    </tr>\n",
       "    <tr>\n",
       "      <th>3</th>\n",
       "      <td>2</td>\n",
       "      <td>33</td>\n",
       "      <td>33</td>\n",
       "      <td>0</td>\n",
       "      <td>12</td>\n",
       "      <td>33.0</td>\n",
       "      <td>2</td>\n",
       "      <td>0</td>\n",
       "      <td>0.0</td>\n",
       "      <td>1</td>\n",
       "      <td>1</td>\n",
       "      <td>1</td>\n",
       "    </tr>\n",
       "    <tr>\n",
       "      <th>4</th>\n",
       "      <td>2</td>\n",
       "      <td>23</td>\n",
       "      <td>30</td>\n",
       "      <td>1</td>\n",
       "      <td>9</td>\n",
       "      <td>30.0</td>\n",
       "      <td>1</td>\n",
       "      <td>2</td>\n",
       "      <td>0.0</td>\n",
       "      <td>0</td>\n",
       "      <td>4</td>\n",
       "      <td>3</td>\n",
       "    </tr>\n",
       "  </tbody>\n",
       "</table>\n",
       "</div>"
      ],
      "text/plain": [
       "   region  tenure  age  marital  address  income  ed  employ  retire  gender  \\\n",
       "0       2      13   44        1        9    64.0   4       5     0.0       0   \n",
       "1       3      11   33        1        7   136.0   5       5     0.0       0   \n",
       "2       3      68   52        1       24   116.0   1      29     0.0       1   \n",
       "3       2      33   33        0       12    33.0   2       0     0.0       1   \n",
       "4       2      23   30        1        9    30.0   1       2     0.0       0   \n",
       "\n",
       "   reside  custcat  \n",
       "0       2        1  \n",
       "1       6        4  \n",
       "2       2        3  \n",
       "3       1        1  \n",
       "4       4        3  "
      ]
     },
     "execution_count": 4,
     "metadata": {},
     "output_type": "execute_result"
    }
   ],
   "source": [
    "df.head()"
   ]
  },
  {
   "cell_type": "code",
   "execution_count": 8,
   "metadata": {},
   "outputs": [
    {
     "data": {
      "text/plain": [
       "<bound method DataFrame.info of      region  tenure  age  marital  address  income  ed  employ  retire  \\\n",
       "0         2      13   44        1        9    64.0   4       5     0.0   \n",
       "1         3      11   33        1        7   136.0   5       5     0.0   \n",
       "2         3      68   52        1       24   116.0   1      29     0.0   \n",
       "3         2      33   33        0       12    33.0   2       0     0.0   \n",
       "4         2      23   30        1        9    30.0   1       2     0.0   \n",
       "5         2      41   39        0       17    78.0   2      16     0.0   \n",
       "6         3      45   22        1        2    19.0   2       4     0.0   \n",
       "7         2      38   35        0        5    76.0   2      10     0.0   \n",
       "8         3      45   59        1        7   166.0   4      31     0.0   \n",
       "9         1      68   41        1       21    72.0   1      22     0.0   \n",
       "10        2       5   33        0       10   125.0   4       5     0.0   \n",
       "11        3       7   35        0       14    80.0   2      15     0.0   \n",
       "12        1      41   38        1        8    37.0   2       9     0.0   \n",
       "13        2      57   54        1       30   115.0   4      23     0.0   \n",
       "14        2       9   46        0        3    25.0   1       8     0.0   \n",
       "15        1      29   38        1       12    75.0   5       1     0.0   \n",
       "16        3      60   57        0       38   162.0   2      30     0.0   \n",
       "17        3      34   48        0        3    49.0   2       6     0.0   \n",
       "18        2       1   24        0        3    20.0   1       3     0.0   \n",
       "19        1      26   29        1        3    77.0   4       2     0.0   \n",
       "20        3       6   30        0        7    16.0   3       1     0.0   \n",
       "21        1      68   52        1       17   120.0   1      24     0.0   \n",
       "22        3      53   33        0       10   101.0   5       4     0.0   \n",
       "23        3      55   48        1       19    67.0   1      25     0.0   \n",
       "24        3      14   43        1       18    36.0   1       5     0.0   \n",
       "25        2       1   21        0        0    33.0   2       0     0.0   \n",
       "26        2      42   40        0        7    37.0   2       8     0.0   \n",
       "27        3      25   33        1       11    31.0   1       5     0.0   \n",
       "28        1       9   21        1        1    17.0   2       2     0.0   \n",
       "29        2      13   33        1        9    19.0   4       0     0.0   \n",
       "..      ...     ...  ...      ...      ...     ...  ..     ...     ...   \n",
       "970       3      48   45        0       15    41.0   1      10     0.0   \n",
       "971       2       9   53        1       20    50.0   2      13     0.0   \n",
       "972       1      61   52        0       21    82.0   1      18     0.0   \n",
       "973       3      72   53        0       34   108.0   1      23     0.0   \n",
       "974       3      57   60        0       20    14.0   2      27     1.0   \n",
       "975       2      57   51        0       10    46.0   1      13     0.0   \n",
       "976       1      37   60        1        0    46.0   1      20     0.0   \n",
       "977       3      45   51        0       13   146.0   4      16     0.0   \n",
       "978       3      45   39        1       15    36.0   1      11     0.0   \n",
       "979       2      55   44        0       24    83.0   1      23     0.0   \n",
       "980       2      24   27        0        2    17.0   3       3     0.0   \n",
       "981       3       1   20        0        1    18.0   3       0     0.0   \n",
       "982       2      34   23        1        3    24.0   1       7     0.0   \n",
       "983       3      14   37        1        5    48.0   3       1     0.0   \n",
       "984       3       6   32        0       10    47.0   1      10     0.0   \n",
       "985       3      24   30        0        0    25.0   4       5     0.0   \n",
       "986       2       3   26        1        6    59.0   4       0     0.0   \n",
       "987       1       4   30        0        1    45.0   4       6     0.0   \n",
       "988       1      72   40        1       19   163.0   4      15     0.0   \n",
       "989       1      44   56        0        4    63.0   2       6     0.0   \n",
       "990       1      50   43        0        6    27.0   3       4     0.0   \n",
       "991       2      61   50        1       16   190.0   2      22     0.0   \n",
       "992       1      34   52        1        2   106.0   2      19     0.0   \n",
       "993       3      26   54        1       30    26.0   3       1     0.0   \n",
       "994       1      15   46        1       17    63.0   5       1     0.0   \n",
       "995       3      10   39        0        0    27.0   3       0     0.0   \n",
       "996       1       7   34        0        2    22.0   5       5     0.0   \n",
       "997       3      67   59        0       40   944.0   5      33     0.0   \n",
       "998       3      70   49        0       18    87.0   2      22     0.0   \n",
       "999       3      50   36        1        7    39.0   3       3     0.0   \n",
       "\n",
       "     gender  reside  custcat  \n",
       "0         0       2        1  \n",
       "1         0       6        4  \n",
       "2         1       2        3  \n",
       "3         1       1        1  \n",
       "4         0       4        3  \n",
       "5         1       1        3  \n",
       "6         1       5        2  \n",
       "7         0       3        4  \n",
       "8         0       5        3  \n",
       "9         0       3        2  \n",
       "10        1       1        1  \n",
       "11        1       1        3  \n",
       "12        1       3        1  \n",
       "13        1       3        4  \n",
       "14        1       2        1  \n",
       "15        0       4        2  \n",
       "16        0       1        3  \n",
       "17        1       3        3  \n",
       "18        0       1        1  \n",
       "19        0       4        4  \n",
       "20        1       1        2  \n",
       "21        0       2        1  \n",
       "22        1       2        4  \n",
       "23        0       3        1  \n",
       "24        0       5        3  \n",
       "25        1       3        3  \n",
       "26        1       1        4  \n",
       "27        0       4        3  \n",
       "28        1       3        1  \n",
       "29        1       2        2  \n",
       "..      ...     ...      ...  \n",
       "970       1       2        1  \n",
       "971       1       2        1  \n",
       "972       0       1        3  \n",
       "973       0       1        3  \n",
       "974       1       1        3  \n",
       "975       0       1        2  \n",
       "976       0       3        3  \n",
       "977       0       2        1  \n",
       "978       1       5        1  \n",
       "979       1       1        3  \n",
       "980       0       5        2  \n",
       "981       0       1        1  \n",
       "982       1       4        3  \n",
       "983       1       4        1  \n",
       "984       0       1        3  \n",
       "985       0       2        4  \n",
       "986       1       3        4  \n",
       "987       0       3        4  \n",
       "988       0       2        2  \n",
       "989       1       1        3  \n",
       "990       0       1        3  \n",
       "991       1       2        2  \n",
       "992       0       2        3  \n",
       "993       1       2        4  \n",
       "994       0       2        4  \n",
       "995       1       3        1  \n",
       "996       1       1        1  \n",
       "997       1       1        4  \n",
       "998       1       1        3  \n",
       "999       1       3        2  \n",
       "\n",
       "[1000 rows x 12 columns]>"
      ]
     },
     "execution_count": 8,
     "metadata": {},
     "output_type": "execute_result"
    }
   ],
   "source": [
    "df.info"
   ]
  },
  {
   "cell_type": "code",
   "execution_count": 11,
   "metadata": {},
   "outputs": [
    {
     "data": {
      "text/plain": [
       "3    281\n",
       "1    266\n",
       "4    236\n",
       "2    217\n",
       "Name: custcat, dtype: int64"
      ]
     },
     "execution_count": 11,
     "metadata": {},
     "output_type": "execute_result"
    }
   ],
   "source": [
    "df['custcat'].value_counts()"
   ]
  },
  {
   "cell_type": "code",
   "execution_count": 12,
   "metadata": {},
   "outputs": [
    {
     "data": {
      "text/plain": [
       "array([[<matplotlib.axes._subplots.AxesSubplot object at 0x0000018A8BF16780>]],\n",
       "      dtype=object)"
      ]
     },
     "execution_count": 12,
     "metadata": {},
     "output_type": "execute_result"
    },
    {
     "data": {
      "image/png": "[encoded data removed]",
      "text/plain": [
       "<Figure size 432x288 with 1 Axes>"
      ]
     },
     "metadata": {
      "needs_background": "light"
     },
     "output_type": "display_data"
    }
   ],
   "source": [
    "df.hist(column= 'income',bins= 20)\n"
   ]
  },
  {
   "cell_type": "markdown",
   "metadata": {},
   "source": [
    "# defining new data set wiithout custcat"
   ]
  },
  {
   "cell_type": "code",
   "execution_count": 18,
   "metadata": {},
   "outputs": [
    {
     "data": {
      "text/plain": [
       "Index(['region', 'tenure', 'age', 'marital', 'address', 'income', 'ed',\n",
       "       'employ', 'retire', 'gender', 'reside', 'custcat'],\n",
       "      dtype='object')"
      ]
     },
     "execution_count": 18,
     "metadata": {},
     "output_type": "execute_result"
    }
   ],
   "source": [
    "df.columns"
   ]
  },
  {
   "cell_type": "code",
   "execution_count": 19,
   "metadata": {},
   "outputs": [],
   "source": [
    "X= df[['region', 'tenure', 'age', 'marital', 'address', 'income', 'ed',\n",
    "       'employ', 'retire', 'gender', 'reside']].values"
   ]
  },
  {
   "cell_type": "code",
   "execution_count": 20,
   "metadata": {},
   "outputs": [
    {
     "data": {
      "text/plain": [
       "array([[  2.,  13.,  44.,   1.,   9.,  64.,   4.,   5.,   0.,   0.,   2.],\n",
       "       [  3.,  11.,  33.,   1.,   7., 136.,   5.,   5.,   0.,   0.,   6.],\n",
       "       [  3.,  68.,  52.,   1.,  24., 116.,   1.,  29.,   0.,   1.,   2.],\n",
       "       [  2.,  33.,  33.,   0.,  12.,  33.,   2.,   0.,   0.,   1.,   1.]])"
      ]
     },
     "execution_count": 20,
     "metadata": {},
     "output_type": "execute_result"
    }
   ],
   "source": [
    "X[0:4]"
   ]
  },
  {
   "cell_type": "code",
   "execution_count": 26,
   "metadata": {},
   "outputs": [],
   "source": [
    "y=df['custcat'].values"
   ]
  },
  {
   "cell_type": "code",
   "execution_count": 27,
   "metadata": {},
   "outputs": [
    {
     "data": {
      "text/plain": [
       "array([1, 4, 3, 1], dtype=int64)"
      ]
     },
     "execution_count": 27,
     "metadata": {},
     "output_type": "execute_result"
    }
   ],
   "source": [
    "y[0:4]"
   ]
  },
  {
   "cell_type": "markdown",
   "metadata": {},
   "source": [
    "now we have both factors(X&y) in numpy format\n",
    "now we have to normalise data for KNN"
   ]
  },
  {
   "cell_type": "code",
   "execution_count": 31,
   "metadata": {},
   "outputs": [
    {
     "data": {
      "text/plain": [
       "array([[-0.02696767, -1.055125  ,  0.18450456,  1.0100505 , -0.25303431,\n",
       "        -0.12650641,  1.0877526 , -0.5941226 , -0.22207644, -1.03459817,\n",
       "        -0.23065004],\n",
       "       [ 1.19883553, -1.14880563, -0.69181243,  1.0100505 , -0.4514148 ,\n",
       "         0.54644972,  1.9062271 , -0.5941226 , -0.22207644, -1.03459817,\n",
       "         2.55666158],\n",
       "       [ 1.19883553,  1.52109247,  0.82182601,  1.0100505 ,  1.23481934,\n",
       "         0.35951747, -1.36767088,  1.78752803, -0.22207644,  0.96655883,\n",
       "        -0.23065004],\n",
       "       [-0.02696767, -0.11831864, -0.69181243, -0.9900495 ,  0.04453642,\n",
       "        -0.41625141, -0.54919639, -1.09029981, -0.22207644,  0.96655883,\n",
       "        -0.92747794],\n",
       "       [-0.02696767, -0.58672182, -0.93080797,  1.0100505 , -0.25303431,\n",
       "        -0.44429125, -1.36767088, -0.89182893, -0.22207644, -1.03459817,\n",
       "         1.16300577]])"
      ]
     },
     "execution_count": 31,
     "metadata": {},
     "output_type": "execute_result"
    }
   ],
   "source": [
    "X= preprocessing.StandardScaler().fit(X).transform(X.astype(float))\n",
    "X[0:5]"
   ]
  },
  {
   "cell_type": "markdown",
   "metadata": {},
   "source": [
    "SO the data set need to trained for KNN "
   ]
  },
  {
   "cell_type": "code",
   "execution_count": 33,
   "metadata": {},
   "outputs": [],
   "source": [
    "from sklearn.model_selection import train_test_split"
   ]
  },
  {
   "cell_type": "code",
   "execution_count": 34,
   "metadata": {},
   "outputs": [],
   "source": [
    "X_train,X_test,y_train,y_test= train_test_split(X,y,test_size=0.3,random_state=4)"
   ]
  },
  {
   "cell_type": "code",
   "execution_count": 39,
   "metadata": {},
   "outputs": [
    {
     "name": "stdout",
     "output_type": "stream",
     "text": [
      "Train set shape : (700, 11) (700,)\n",
      "Test set shape: (300, 11) (300,)\n"
     ]
    }
   ],
   "source": [
    "print('Train set shape :',X_train.shape,y_train.shape)\n",
    "print('Test set shape:',X_test.shape,y_test.shape)"
   ]
  },
  {
   "cell_type": "markdown",
   "metadata": {},
   "source": [
    "trainig and testing set are ready for KNN now we have to import the library for the KNN"
   ]
  },
  {
   "cell_type": "markdown",
   "metadata": {},
   "source": [
    "# KNN classification"
   ]
  },
  {
   "cell_type": "code",
   "execution_count": 40,
   "metadata": {},
   "outputs": [],
   "source": [
    "from sklearn.neighbors import KNeighborsClassifier"
   ]
  },
  {
   "cell_type": "code",
   "execution_count": 43,
   "metadata": {},
   "outputs": [
    {
     "data": {
      "text/plain": [
       "KNeighborsClassifier(algorithm='auto', leaf_size=30, metric='minkowski',\n",
       "           metric_params=None, n_jobs=None, n_neighbors=5, p=2,\n",
       "           weights='uniform')"
      ]
     },
     "execution_count": 43,
     "metadata": {},
     "output_type": "execute_result"
    }
   ],
   "source": [
    "k= 5\n",
    "neigh = KNeighborsClassifier(n_neighbors= k).fit(X_train,y_train)\n",
    "neigh"
   ]
  },
  {
   "cell_type": "code",
   "execution_count": 45,
   "metadata": {},
   "outputs": [
    {
     "data": {
      "text/plain": [
       "array([3, 3, 3, 2, 4], dtype=int64)"
      ]
     },
     "execution_count": 45,
     "metadata": {},
     "output_type": "execute_result"
    }
   ],
   "source": [
    "yhat= neigh.predict(X_test)\n",
    "yhat[0:5]"
   ]
  },
  {
   "cell_type": "markdown",
   "metadata": {},
   "source": [
    "now the accuracy of the K "
   ]
  },
  {
   "cell_type": "code",
   "execution_count": 47,
   "metadata": {},
   "outputs": [],
   "source": [
    "from sklearn import metrics"
   ]
  },
  {
   "cell_type": "code",
   "execution_count": 59,
   "metadata": {},
   "outputs": [
    {
     "name": "stdout",
     "output_type": "stream",
     "text": [
      "Train set Accuracy:  0.5242857142857142\n",
      "Test set Accuracy:  0.34\n"
     ]
    }
   ],
   "source": [
    "print(\"Train set Accuracy: \", metrics.accuracy_score(y_train, neigh.predict(X_train)))\n",
    "print(\"Test set Accuracy: \", metrics.accuracy_score(y_test, yhat))"
   ]
  },
  {
   "cell_type": "code",
   "execution_count": null,
   "metadata": {},
   "outputs": [],
   "source": []
  }
 ],
 "metadata": {
  "kernelspec": {
   "display_name": "Python 3",
   "language": "python",
   "name": "python3"
  },
  "language_info": {
   "codemirror_mode": {
    "name": "ipython",
    "version": 3
   },
   "file_extension": ".py",
   "mimetype": "text/x-python",
   "name": "python",
   "nbconvert_exporter": "python",
   "pygments_lexer": "ipython3",
   "version": "3.7.1"
  }
 },
 "nbformat": 4,
 "nbformat_minor": 2
}
